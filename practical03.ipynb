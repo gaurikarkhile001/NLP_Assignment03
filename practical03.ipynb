{
  "cells": [
    {
      "cell_type": "markdown",
      "metadata": {},
      "source": [
        " Theory (Simple):\n",
        "Text Cleaning: Remove punctuation, lowercase, and keep only words.\n",
        "\n",
        "Lemmatization: Get base form of words.\n",
        "\n",
        "Stop Word Removal: Remove common words like \"the\", \"is\", etc.\n",
        "\n",
        "Label Encoding: Convert text labels to numbers.\n",
        "\n",
        "TF-IDF: Word importance based on frequency and uniqueness.\n",
        "\n",
        "Save Output: Use pandas to save CSV file."
      ]
    },
    {
      "cell_type": "code",
      "execution_count": 3,
      "metadata": {},
      "outputs": [
        {
          "name": "stderr",
          "output_type": "stream",
          "text": [
            "[nltk_data] Downloading package punkt to\n",
            "[nltk_data]     C:\\Users\\Gauri\\AppData\\Roaming\\nltk_data...\n",
            "[nltk_data]   Package punkt is already up-to-date!\n",
            "[nltk_data] Downloading package stopwords to\n",
            "[nltk_data]     C:\\Users\\Gauri\\AppData\\Roaming\\nltk_data...\n",
            "[nltk_data]   Package stopwords is already up-to-date!\n",
            "[nltk_data] Downloading package wordnet to\n",
            "[nltk_data]     C:\\Users\\Gauri\\AppData\\Roaming\\nltk_data...\n",
            "[nltk_data]   Package wordnet is already up-to-date!\n"
          ]
        },
        {
          "name": "stdout",
          "output_type": "stream",
          "text": [
            "✅ Preprocessing complete. File saved as 'processed_text_output.csv'\n"
          ]
        }
      ],
      "source": [
        "import nltk\n",
        "import re\n",
        "import pandas as pd\n",
        "from nltk.tokenize import word_tokenize\n",
        "from nltk.corpus import stopwords, wordnet\n",
        "from nltk.stem import WordNetLemmatizer\n",
        "from sklearn.preprocessing import LabelEncoder\n",
        "from sklearn.feature_extraction.text import TfidfVectorizer\n",
        "\n",
        "nltk.download('punkt')\n",
        "nltk.download('stopwords')\n",
        "nltk.download('wordnet')\n",
        "\n",
        "# Sample dataset\n",
        "data = pd.DataFrame({\n",
        "    'text': [\n",
        "        \"I love playing football!!!\",\n",
        "        \"Movies are amazing and I enjoy watching them.\",\n",
        "        \"Football is a great sport.\",\n",
        "        \"Reading books is a great habit.\"\n",
        "    ],\n",
        "    'label': ['sports', 'entertainment', 'sports', 'education']\n",
        "})\n",
        "\n",
        "# 1. Text Cleaning + Tokenization + Lowercase\n",
        "def clean_text(text):\n",
        "    text = re.sub(r'[^\\w\\s]', '', text.lower())  # remove punctuation & lowercase\n",
        "    tokens = word_tokenize(text)\n",
        "    return tokens\n",
        "\n",
        "# 2. Lemmatization + Stopword Removal\n",
        "lemmatizer = WordNetLemmatizer()\n",
        "stop_words = set(stopwords.words('english'))\n",
        "\n",
        "def preprocess(tokens):\n",
        "    return [lemmatizer.lemmatize(w) for w in tokens if w not in stop_words]\n",
        "\n",
        "# Apply preprocessing\n",
        "data['clean_tokens'] = data['text'].apply(clean_text).apply(preprocess)\n",
        "\n",
        "# Join tokens back to sentence\n",
        "data['clean_text'] = data['clean_tokens'].apply(lambda tokens: ' '.join(tokens))\n",
        "\n",
        "# 3. Label Encoding\n",
        "encoder = LabelEncoder()\n",
        "data['label_encoded'] = encoder.fit_transform(data['label'])\n",
        "\n",
        "# 4. TF-IDF Representation\n",
        "tfidf = TfidfVectorizer()\n",
        "tfidf_matrix = tfidf.fit_transform(data['clean_text'])\n",
        "tfidf_df = pd.DataFrame(tfidf_matrix.toarray(), columns=tfidf.get_feature_names_out())\n",
        "\n",
        "# 5. Save Output to CSV\n",
        "output = pd.concat([data[['text', 'clean_text', 'label', 'label_encoded']], tfidf_df], axis=1)\n",
        "output.to_csv(\"processed_text_output.csv\", index=False)\n",
        "\n",
        "print(\"✅ Preprocessing complete. File saved as 'processed_text_output.csv'\")\n"
      ]
    },
    {
      "cell_type": "code",
      "execution_count": null,
      "metadata": {},
      "outputs": [],
      "source": []
    }
  ],
  "metadata": {
    "colab": {
      "provenance": []
    },
    "kernelspec": {
      "display_name": ".venv",
      "language": "python",
      "name": "python3"
    },
    "language_info": {
      "codemirror_mode": {
        "name": "ipython",
        "version": 3
      },
      "file_extension": ".py",
      "mimetype": "text/x-python",
      "name": "python",
      "nbconvert_exporter": "python",
      "pygments_lexer": "ipython3",
      "version": "3.12.4"
    }
  },
  "nbformat": 4,
  "nbformat_minor": 0
}
